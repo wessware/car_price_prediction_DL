{
    "cells": [
        {
            "cell_type": "code",
            "execution_count": 5,
            "source": [
                "import pandas as pd\r\n",
                "import numpy as np \r\n",
                "from sklearn.preprocessing import OrdinalEncoder\r\n",
                "from sklearn.model_selection import train_test_split\r\n",
                "from sklearn.metrics import mean_squared_error, mean_absolute_error, mean_absolute_percentage_error\r\n",
                "\r\n",
                "import datetime\r\n",
                "\r\n",
                "from sklearn.ensemble import RandomForestRegressor\r\n",
                "from sklearn.linear_model import LinearRegression\r\n",
                "from xgboost import XGBRegressor\r\n",
                "from sklearn.preprocessing import StandardScaler\r\n",
                "import matplotlib.pyplot as plt\r\n",
                "import seaborn as sns\r\n",
                "from tensorflow.python.keras.models import Sequential\r\n",
                "from tensorflow.python.keras.layers import Dense\r\n",
                "from prettytable import PrettyTable\r\n"
            ],
            "outputs": [],
            "metadata": {}
        },
        {
            "cell_type": "code",
            "execution_count": 7,
            "source": [
                "car_df = pd.read_csv('train.csv')"
            ],
            "outputs": [],
            "metadata": {}
        },
        {
            "cell_type": "code",
            "execution_count": 15,
            "source": [
                "car_df"
            ],
            "outputs": [
                {
                    "output_type": "execute_result",
                    "data": {
                        "text/plain": [
                            "       Price  Levy   Manufacturer    Model  Prod. year   Category  \\\n",
                            "0      13328  1399          LEXUS   RX 450        2010       Jeep   \n",
                            "1      16621  1018      CHEVROLET  Equinox        2011       Jeep   \n",
                            "2       8467     -          HONDA      FIT        2006  Hatchback   \n",
                            "3       3607   862           FORD   Escape        2011       Jeep   \n",
                            "4      11726   446          HONDA      FIT        2014  Hatchback   \n",
                            "...      ...   ...            ...      ...         ...        ...   \n",
                            "19232   8467     -  MERCEDES-BENZ  CLK 200        1999      Coupe   \n",
                            "19233  15681   831        HYUNDAI   Sonata        2011      Sedan   \n",
                            "19234  26108   836        HYUNDAI   Tucson        2010       Jeep   \n",
                            "19235   5331  1288      CHEVROLET  Captiva        2007       Jeep   \n",
                            "19236    470   753        HYUNDAI   Sonata        2012      Sedan   \n",
                            "\n",
                            "      Leather interior Fuel type Engine volume    Mileage  Cylinders  \\\n",
                            "0                  Yes    Hybrid           3.5  186005 km        6.0   \n",
                            "1                   No    Petrol             3  192000 km        6.0   \n",
                            "2                   No    Petrol           1.3  200000 km        4.0   \n",
                            "3                  Yes    Hybrid           2.5  168966 km        4.0   \n",
                            "4                  Yes    Petrol           1.3   91901 km        4.0   \n",
                            "...                ...       ...           ...        ...        ...   \n",
                            "19232              Yes       CNG     2.0 Turbo  300000 km        4.0   \n",
                            "19233              Yes    Petrol           2.4  161600 km        4.0   \n",
                            "19234              Yes    Diesel             2  116365 km        4.0   \n",
                            "19235              Yes    Diesel             2   51258 km        4.0   \n",
                            "19236              Yes    Hybrid           2.4  186923 km        4.0   \n",
                            "\n",
                            "      Gear box type Drive wheels   Doors             Wheel   Color  Airbags  \n",
                            "0         Automatic          4x4  04-May        Left wheel  Silver       12  \n",
                            "1         Tiptronic          4x4  04-May        Left wheel   Black        8  \n",
                            "2          Variator        Front  04-May  Right-hand drive   Black        2  \n",
                            "3         Automatic          4x4  04-May        Left wheel   White        0  \n",
                            "4         Automatic        Front  04-May        Left wheel  Silver        4  \n",
                            "...             ...          ...     ...               ...     ...      ...  \n",
                            "19232        Manual         Rear  02-Mar        Left wheel  Silver        5  \n",
                            "19233     Tiptronic        Front  04-May        Left wheel     Red        8  \n",
                            "19234     Automatic        Front  04-May        Left wheel    Grey        4  \n",
                            "19235     Automatic        Front  04-May        Left wheel   Black        4  \n",
                            "19236     Automatic        Front  04-May        Left wheel   White       12  \n",
                            "\n",
                            "[19237 rows x 17 columns]"
                        ],
                        "text/html": [
                            "<div>\n",
                            "<style scoped>\n",
                            "    .dataframe tbody tr th:only-of-type {\n",
                            "        vertical-align: middle;\n",
                            "    }\n",
                            "\n",
                            "    .dataframe tbody tr th {\n",
                            "        vertical-align: top;\n",
                            "    }\n",
                            "\n",
                            "    .dataframe thead th {\n",
                            "        text-align: right;\n",
                            "    }\n",
                            "</style>\n",
                            "<table border=\"1\" class=\"dataframe\">\n",
                            "  <thead>\n",
                            "    <tr style=\"text-align: right;\">\n",
                            "      <th></th>\n",
                            "      <th>Price</th>\n",
                            "      <th>Levy</th>\n",
                            "      <th>Manufacturer</th>\n",
                            "      <th>Model</th>\n",
                            "      <th>Prod. year</th>\n",
                            "      <th>Category</th>\n",
                            "      <th>Leather interior</th>\n",
                            "      <th>Fuel type</th>\n",
                            "      <th>Engine volume</th>\n",
                            "      <th>Mileage</th>\n",
                            "      <th>Cylinders</th>\n",
                            "      <th>Gear box type</th>\n",
                            "      <th>Drive wheels</th>\n",
                            "      <th>Doors</th>\n",
                            "      <th>Wheel</th>\n",
                            "      <th>Color</th>\n",
                            "      <th>Airbags</th>\n",
                            "    </tr>\n",
                            "  </thead>\n",
                            "  <tbody>\n",
                            "    <tr>\n",
                            "      <th>0</th>\n",
                            "      <td>13328</td>\n",
                            "      <td>1399</td>\n",
                            "      <td>LEXUS</td>\n",
                            "      <td>RX 450</td>\n",
                            "      <td>2010</td>\n",
                            "      <td>Jeep</td>\n",
                            "      <td>Yes</td>\n",
                            "      <td>Hybrid</td>\n",
                            "      <td>3.5</td>\n",
                            "      <td>186005 km</td>\n",
                            "      <td>6.0</td>\n",
                            "      <td>Automatic</td>\n",
                            "      <td>4x4</td>\n",
                            "      <td>04-May</td>\n",
                            "      <td>Left wheel</td>\n",
                            "      <td>Silver</td>\n",
                            "      <td>12</td>\n",
                            "    </tr>\n",
                            "    <tr>\n",
                            "      <th>1</th>\n",
                            "      <td>16621</td>\n",
                            "      <td>1018</td>\n",
                            "      <td>CHEVROLET</td>\n",
                            "      <td>Equinox</td>\n",
                            "      <td>2011</td>\n",
                            "      <td>Jeep</td>\n",
                            "      <td>No</td>\n",
                            "      <td>Petrol</td>\n",
                            "      <td>3</td>\n",
                            "      <td>192000 km</td>\n",
                            "      <td>6.0</td>\n",
                            "      <td>Tiptronic</td>\n",
                            "      <td>4x4</td>\n",
                            "      <td>04-May</td>\n",
                            "      <td>Left wheel</td>\n",
                            "      <td>Black</td>\n",
                            "      <td>8</td>\n",
                            "    </tr>\n",
                            "    <tr>\n",
                            "      <th>2</th>\n",
                            "      <td>8467</td>\n",
                            "      <td>-</td>\n",
                            "      <td>HONDA</td>\n",
                            "      <td>FIT</td>\n",
                            "      <td>2006</td>\n",
                            "      <td>Hatchback</td>\n",
                            "      <td>No</td>\n",
                            "      <td>Petrol</td>\n",
                            "      <td>1.3</td>\n",
                            "      <td>200000 km</td>\n",
                            "      <td>4.0</td>\n",
                            "      <td>Variator</td>\n",
                            "      <td>Front</td>\n",
                            "      <td>04-May</td>\n",
                            "      <td>Right-hand drive</td>\n",
                            "      <td>Black</td>\n",
                            "      <td>2</td>\n",
                            "    </tr>\n",
                            "    <tr>\n",
                            "      <th>3</th>\n",
                            "      <td>3607</td>\n",
                            "      <td>862</td>\n",
                            "      <td>FORD</td>\n",
                            "      <td>Escape</td>\n",
                            "      <td>2011</td>\n",
                            "      <td>Jeep</td>\n",
                            "      <td>Yes</td>\n",
                            "      <td>Hybrid</td>\n",
                            "      <td>2.5</td>\n",
                            "      <td>168966 km</td>\n",
                            "      <td>4.0</td>\n",
                            "      <td>Automatic</td>\n",
                            "      <td>4x4</td>\n",
                            "      <td>04-May</td>\n",
                            "      <td>Left wheel</td>\n",
                            "      <td>White</td>\n",
                            "      <td>0</td>\n",
                            "    </tr>\n",
                            "    <tr>\n",
                            "      <th>4</th>\n",
                            "      <td>11726</td>\n",
                            "      <td>446</td>\n",
                            "      <td>HONDA</td>\n",
                            "      <td>FIT</td>\n",
                            "      <td>2014</td>\n",
                            "      <td>Hatchback</td>\n",
                            "      <td>Yes</td>\n",
                            "      <td>Petrol</td>\n",
                            "      <td>1.3</td>\n",
                            "      <td>91901 km</td>\n",
                            "      <td>4.0</td>\n",
                            "      <td>Automatic</td>\n",
                            "      <td>Front</td>\n",
                            "      <td>04-May</td>\n",
                            "      <td>Left wheel</td>\n",
                            "      <td>Silver</td>\n",
                            "      <td>4</td>\n",
                            "    </tr>\n",
                            "    <tr>\n",
                            "      <th>...</th>\n",
                            "      <td>...</td>\n",
                            "      <td>...</td>\n",
                            "      <td>...</td>\n",
                            "      <td>...</td>\n",
                            "      <td>...</td>\n",
                            "      <td>...</td>\n",
                            "      <td>...</td>\n",
                            "      <td>...</td>\n",
                            "      <td>...</td>\n",
                            "      <td>...</td>\n",
                            "      <td>...</td>\n",
                            "      <td>...</td>\n",
                            "      <td>...</td>\n",
                            "      <td>...</td>\n",
                            "      <td>...</td>\n",
                            "      <td>...</td>\n",
                            "      <td>...</td>\n",
                            "    </tr>\n",
                            "    <tr>\n",
                            "      <th>19232</th>\n",
                            "      <td>8467</td>\n",
                            "      <td>-</td>\n",
                            "      <td>MERCEDES-BENZ</td>\n",
                            "      <td>CLK 200</td>\n",
                            "      <td>1999</td>\n",
                            "      <td>Coupe</td>\n",
                            "      <td>Yes</td>\n",
                            "      <td>CNG</td>\n",
                            "      <td>2.0 Turbo</td>\n",
                            "      <td>300000 km</td>\n",
                            "      <td>4.0</td>\n",
                            "      <td>Manual</td>\n",
                            "      <td>Rear</td>\n",
                            "      <td>02-Mar</td>\n",
                            "      <td>Left wheel</td>\n",
                            "      <td>Silver</td>\n",
                            "      <td>5</td>\n",
                            "    </tr>\n",
                            "    <tr>\n",
                            "      <th>19233</th>\n",
                            "      <td>15681</td>\n",
                            "      <td>831</td>\n",
                            "      <td>HYUNDAI</td>\n",
                            "      <td>Sonata</td>\n",
                            "      <td>2011</td>\n",
                            "      <td>Sedan</td>\n",
                            "      <td>Yes</td>\n",
                            "      <td>Petrol</td>\n",
                            "      <td>2.4</td>\n",
                            "      <td>161600 km</td>\n",
                            "      <td>4.0</td>\n",
                            "      <td>Tiptronic</td>\n",
                            "      <td>Front</td>\n",
                            "      <td>04-May</td>\n",
                            "      <td>Left wheel</td>\n",
                            "      <td>Red</td>\n",
                            "      <td>8</td>\n",
                            "    </tr>\n",
                            "    <tr>\n",
                            "      <th>19234</th>\n",
                            "      <td>26108</td>\n",
                            "      <td>836</td>\n",
                            "      <td>HYUNDAI</td>\n",
                            "      <td>Tucson</td>\n",
                            "      <td>2010</td>\n",
                            "      <td>Jeep</td>\n",
                            "      <td>Yes</td>\n",
                            "      <td>Diesel</td>\n",
                            "      <td>2</td>\n",
                            "      <td>116365 km</td>\n",
                            "      <td>4.0</td>\n",
                            "      <td>Automatic</td>\n",
                            "      <td>Front</td>\n",
                            "      <td>04-May</td>\n",
                            "      <td>Left wheel</td>\n",
                            "      <td>Grey</td>\n",
                            "      <td>4</td>\n",
                            "    </tr>\n",
                            "    <tr>\n",
                            "      <th>19235</th>\n",
                            "      <td>5331</td>\n",
                            "      <td>1288</td>\n",
                            "      <td>CHEVROLET</td>\n",
                            "      <td>Captiva</td>\n",
                            "      <td>2007</td>\n",
                            "      <td>Jeep</td>\n",
                            "      <td>Yes</td>\n",
                            "      <td>Diesel</td>\n",
                            "      <td>2</td>\n",
                            "      <td>51258 km</td>\n",
                            "      <td>4.0</td>\n",
                            "      <td>Automatic</td>\n",
                            "      <td>Front</td>\n",
                            "      <td>04-May</td>\n",
                            "      <td>Left wheel</td>\n",
                            "      <td>Black</td>\n",
                            "      <td>4</td>\n",
                            "    </tr>\n",
                            "    <tr>\n",
                            "      <th>19236</th>\n",
                            "      <td>470</td>\n",
                            "      <td>753</td>\n",
                            "      <td>HYUNDAI</td>\n",
                            "      <td>Sonata</td>\n",
                            "      <td>2012</td>\n",
                            "      <td>Sedan</td>\n",
                            "      <td>Yes</td>\n",
                            "      <td>Hybrid</td>\n",
                            "      <td>2.4</td>\n",
                            "      <td>186923 km</td>\n",
                            "      <td>4.0</td>\n",
                            "      <td>Automatic</td>\n",
                            "      <td>Front</td>\n",
                            "      <td>04-May</td>\n",
                            "      <td>Left wheel</td>\n",
                            "      <td>White</td>\n",
                            "      <td>12</td>\n",
                            "    </tr>\n",
                            "  </tbody>\n",
                            "</table>\n",
                            "<p>19237 rows × 17 columns</p>\n",
                            "</div>"
                        ]
                    },
                    "metadata": {},
                    "execution_count": 15
                }
            ],
            "metadata": {}
        },
        {
            "cell_type": "code",
            "execution_count": 8,
            "source": [
                "car_df.shape"
            ],
            "outputs": [
                {
                    "output_type": "execute_result",
                    "data": {
                        "text/plain": [
                            "(19237, 18)"
                        ]
                    },
                    "metadata": {},
                    "execution_count": 8
                }
            ],
            "metadata": {}
        },
        {
            "cell_type": "code",
            "execution_count": 10,
            "source": [
                "car_df.describe().transpose()"
            ],
            "outputs": [
                {
                    "output_type": "execute_result",
                    "data": {
                        "text/plain": [
                            "              count          mean            std         min         25%  \\\n",
                            "ID          19237.0  4.557654e+07  936591.422799  20746880.0  45698374.0   \n",
                            "Price       19237.0  1.855593e+04  190581.269684         1.0      5331.0   \n",
                            "Prod. year  19237.0  2.010913e+03       5.668673      1939.0      2009.0   \n",
                            "Cylinders   19237.0  4.582991e+00       1.199933         1.0         4.0   \n",
                            "Airbags     19237.0  6.582627e+00       4.320168         0.0         4.0   \n",
                            "\n",
                            "                   50%         75%         max  \n",
                            "ID          45772308.0  45802036.0  45816654.0  \n",
                            "Price          13172.0     22075.0  26307500.0  \n",
                            "Prod. year      2012.0      2015.0      2020.0  \n",
                            "Cylinders          4.0         4.0        16.0  \n",
                            "Airbags            6.0        12.0        16.0  "
                        ],
                        "text/html": [
                            "<div>\n",
                            "<style scoped>\n",
                            "    .dataframe tbody tr th:only-of-type {\n",
                            "        vertical-align: middle;\n",
                            "    }\n",
                            "\n",
                            "    .dataframe tbody tr th {\n",
                            "        vertical-align: top;\n",
                            "    }\n",
                            "\n",
                            "    .dataframe thead th {\n",
                            "        text-align: right;\n",
                            "    }\n",
                            "</style>\n",
                            "<table border=\"1\" class=\"dataframe\">\n",
                            "  <thead>\n",
                            "    <tr style=\"text-align: right;\">\n",
                            "      <th></th>\n",
                            "      <th>count</th>\n",
                            "      <th>mean</th>\n",
                            "      <th>std</th>\n",
                            "      <th>min</th>\n",
                            "      <th>25%</th>\n",
                            "      <th>50%</th>\n",
                            "      <th>75%</th>\n",
                            "      <th>max</th>\n",
                            "    </tr>\n",
                            "  </thead>\n",
                            "  <tbody>\n",
                            "    <tr>\n",
                            "      <th>ID</th>\n",
                            "      <td>19237.0</td>\n",
                            "      <td>4.557654e+07</td>\n",
                            "      <td>936591.422799</td>\n",
                            "      <td>20746880.0</td>\n",
                            "      <td>45698374.0</td>\n",
                            "      <td>45772308.0</td>\n",
                            "      <td>45802036.0</td>\n",
                            "      <td>45816654.0</td>\n",
                            "    </tr>\n",
                            "    <tr>\n",
                            "      <th>Price</th>\n",
                            "      <td>19237.0</td>\n",
                            "      <td>1.855593e+04</td>\n",
                            "      <td>190581.269684</td>\n",
                            "      <td>1.0</td>\n",
                            "      <td>5331.0</td>\n",
                            "      <td>13172.0</td>\n",
                            "      <td>22075.0</td>\n",
                            "      <td>26307500.0</td>\n",
                            "    </tr>\n",
                            "    <tr>\n",
                            "      <th>Prod. year</th>\n",
                            "      <td>19237.0</td>\n",
                            "      <td>2.010913e+03</td>\n",
                            "      <td>5.668673</td>\n",
                            "      <td>1939.0</td>\n",
                            "      <td>2009.0</td>\n",
                            "      <td>2012.0</td>\n",
                            "      <td>2015.0</td>\n",
                            "      <td>2020.0</td>\n",
                            "    </tr>\n",
                            "    <tr>\n",
                            "      <th>Cylinders</th>\n",
                            "      <td>19237.0</td>\n",
                            "      <td>4.582991e+00</td>\n",
                            "      <td>1.199933</td>\n",
                            "      <td>1.0</td>\n",
                            "      <td>4.0</td>\n",
                            "      <td>4.0</td>\n",
                            "      <td>4.0</td>\n",
                            "      <td>16.0</td>\n",
                            "    </tr>\n",
                            "    <tr>\n",
                            "      <th>Airbags</th>\n",
                            "      <td>19237.0</td>\n",
                            "      <td>6.582627e+00</td>\n",
                            "      <td>4.320168</td>\n",
                            "      <td>0.0</td>\n",
                            "      <td>4.0</td>\n",
                            "      <td>6.0</td>\n",
                            "      <td>12.0</td>\n",
                            "      <td>16.0</td>\n",
                            "    </tr>\n",
                            "  </tbody>\n",
                            "</table>\n",
                            "</div>"
                        ]
                    },
                    "metadata": {},
                    "execution_count": 10
                }
            ],
            "metadata": {}
        },
        {
            "cell_type": "code",
            "execution_count": 11,
            "source": [
                "car_df.info()"
            ],
            "outputs": [
                {
                    "output_type": "stream",
                    "name": "stdout",
                    "text": [
                        "<class 'pandas.core.frame.DataFrame'>\n",
                        "RangeIndex: 19237 entries, 0 to 19236\n",
                        "Data columns (total 18 columns):\n",
                        " #   Column            Non-Null Count  Dtype  \n",
                        "---  ------            --------------  -----  \n",
                        " 0   ID                19237 non-null  int64  \n",
                        " 1   Price             19237 non-null  int64  \n",
                        " 2   Levy              19237 non-null  object \n",
                        " 3   Manufacturer      19237 non-null  object \n",
                        " 4   Model             19237 non-null  object \n",
                        " 5   Prod. year        19237 non-null  int64  \n",
                        " 6   Category          19237 non-null  object \n",
                        " 7   Leather interior  19237 non-null  object \n",
                        " 8   Fuel type         19237 non-null  object \n",
                        " 9   Engine volume     19237 non-null  object \n",
                        " 10  Mileage           19237 non-null  object \n",
                        " 11  Cylinders         19237 non-null  float64\n",
                        " 12  Gear box type     19237 non-null  object \n",
                        " 13  Drive wheels      19237 non-null  object \n",
                        " 14  Doors             19237 non-null  object \n",
                        " 15  Wheel             19237 non-null  object \n",
                        " 16  Color             19237 non-null  object \n",
                        " 17  Airbags           19237 non-null  int64  \n",
                        "dtypes: float64(1), int64(4), object(13)\n",
                        "memory usage: 2.6+ MB\n"
                    ]
                }
            ],
            "metadata": {}
        },
        {
            "cell_type": "code",
            "execution_count": 12,
            "source": [
                "sns.pairplot(car_df, diag_kind='kde')"
            ],
            "outputs": [
                {
                    "output_type": "execute_result",
                    "data": {
                        "text/plain": [
                            "<seaborn.axisgrid.PairGrid at 0x2121eed7dc0>"
                        ]
                    },
                    "metadata": {},
                    "execution_count": 12
                },
                {
                    "output_type": "display_data",
                    "data": {
                        "text/plain": [
                            "<Figure size 900x900 with 30 Axes>"
                        ],
                        "image/png": "[encoded data removed]"
                    },
                    "metadata": {
                        "needs_background": "light"
                    }
                }
            ],
            "metadata": {}
        },
        {
            "cell_type": "code",
            "execution_count": 13,
            "source": [
                "car_df.drop('ID', axis=1, inplace=True)"
            ],
            "outputs": [],
            "metadata": {}
        },
        {
            "cell_type": "code",
            "execution_count": 14,
            "source": [
                "car_df"
            ],
            "outputs": [
                {
                    "output_type": "execute_result",
                    "data": {
                        "text/plain": [
                            "       Price  Levy   Manufacturer    Model  Prod. year   Category  \\\n",
                            "0      13328  1399          LEXUS   RX 450        2010       Jeep   \n",
                            "1      16621  1018      CHEVROLET  Equinox        2011       Jeep   \n",
                            "2       8467     -          HONDA      FIT        2006  Hatchback   \n",
                            "3       3607   862           FORD   Escape        2011       Jeep   \n",
                            "4      11726   446          HONDA      FIT        2014  Hatchback   \n",
                            "...      ...   ...            ...      ...         ...        ...   \n",
                            "19232   8467     -  MERCEDES-BENZ  CLK 200        1999      Coupe   \n",
                            "19233  15681   831        HYUNDAI   Sonata        2011      Sedan   \n",
                            "19234  26108   836        HYUNDAI   Tucson        2010       Jeep   \n",
                            "19235   5331  1288      CHEVROLET  Captiva        2007       Jeep   \n",
                            "19236    470   753        HYUNDAI   Sonata        2012      Sedan   \n",
                            "\n",
                            "      Leather interior Fuel type Engine volume    Mileage  Cylinders  \\\n",
                            "0                  Yes    Hybrid           3.5  186005 km        6.0   \n",
                            "1                   No    Petrol             3  192000 km        6.0   \n",
                            "2                   No    Petrol           1.3  200000 km        4.0   \n",
                            "3                  Yes    Hybrid           2.5  168966 km        4.0   \n",
                            "4                  Yes    Petrol           1.3   91901 km        4.0   \n",
                            "...                ...       ...           ...        ...        ...   \n",
                            "19232              Yes       CNG     2.0 Turbo  300000 km        4.0   \n",
                            "19233              Yes    Petrol           2.4  161600 km        4.0   \n",
                            "19234              Yes    Diesel             2  116365 km        4.0   \n",
                            "19235              Yes    Diesel             2   51258 km        4.0   \n",
                            "19236              Yes    Hybrid           2.4  186923 km        4.0   \n",
                            "\n",
                            "      Gear box type Drive wheels   Doors             Wheel   Color  Airbags  \n",
                            "0         Automatic          4x4  04-May        Left wheel  Silver       12  \n",
                            "1         Tiptronic          4x4  04-May        Left wheel   Black        8  \n",
                            "2          Variator        Front  04-May  Right-hand drive   Black        2  \n",
                            "3         Automatic          4x4  04-May        Left wheel   White        0  \n",
                            "4         Automatic        Front  04-May        Left wheel  Silver        4  \n",
                            "...             ...          ...     ...               ...     ...      ...  \n",
                            "19232        Manual         Rear  02-Mar        Left wheel  Silver        5  \n",
                            "19233     Tiptronic        Front  04-May        Left wheel     Red        8  \n",
                            "19234     Automatic        Front  04-May        Left wheel    Grey        4  \n",
                            "19235     Automatic        Front  04-May        Left wheel   Black        4  \n",
                            "19236     Automatic        Front  04-May        Left wheel   White       12  \n",
                            "\n",
                            "[19237 rows x 17 columns]"
                        ],
                        "text/html": [
                            "<div>\n",
                            "<style scoped>\n",
                            "    .dataframe tbody tr th:only-of-type {\n",
                            "        vertical-align: middle;\n",
                            "    }\n",
                            "\n",
                            "    .dataframe tbody tr th {\n",
                            "        vertical-align: top;\n",
                            "    }\n",
                            "\n",
                            "    .dataframe thead th {\n",
                            "        text-align: right;\n",
                            "    }\n",
                            "</style>\n",
                            "<table border=\"1\" class=\"dataframe\">\n",
                            "  <thead>\n",
                            "    <tr style=\"text-align: right;\">\n",
                            "      <th></th>\n",
                            "      <th>Price</th>\n",
                            "      <th>Levy</th>\n",
                            "      <th>Manufacturer</th>\n",
                            "      <th>Model</th>\n",
                            "      <th>Prod. year</th>\n",
                            "      <th>Category</th>\n",
                            "      <th>Leather interior</th>\n",
                            "      <th>Fuel type</th>\n",
                            "      <th>Engine volume</th>\n",
                            "      <th>Mileage</th>\n",
                            "      <th>Cylinders</th>\n",
                            "      <th>Gear box type</th>\n",
                            "      <th>Drive wheels</th>\n",
                            "      <th>Doors</th>\n",
                            "      <th>Wheel</th>\n",
                            "      <th>Color</th>\n",
                            "      <th>Airbags</th>\n",
                            "    </tr>\n",
                            "  </thead>\n",
                            "  <tbody>\n",
                            "    <tr>\n",
                            "      <th>0</th>\n",
                            "      <td>13328</td>\n",
                            "      <td>1399</td>\n",
                            "      <td>LEXUS</td>\n",
                            "      <td>RX 450</td>\n",
                            "      <td>2010</td>\n",
                            "      <td>Jeep</td>\n",
                            "      <td>Yes</td>\n",
                            "      <td>Hybrid</td>\n",
                            "      <td>3.5</td>\n",
                            "      <td>186005 km</td>\n",
                            "      <td>6.0</td>\n",
                            "      <td>Automatic</td>\n",
                            "      <td>4x4</td>\n",
                            "      <td>04-May</td>\n",
                            "      <td>Left wheel</td>\n",
                            "      <td>Silver</td>\n",
                            "      <td>12</td>\n",
                            "    </tr>\n",
                            "    <tr>\n",
                            "      <th>1</th>\n",
                            "      <td>16621</td>\n",
                            "      <td>1018</td>\n",
                            "      <td>CHEVROLET</td>\n",
                            "      <td>Equinox</td>\n",
                            "      <td>2011</td>\n",
                            "      <td>Jeep</td>\n",
                            "      <td>No</td>\n",
                            "      <td>Petrol</td>\n",
                            "      <td>3</td>\n",
                            "      <td>192000 km</td>\n",
                            "      <td>6.0</td>\n",
                            "      <td>Tiptronic</td>\n",
                            "      <td>4x4</td>\n",
                            "      <td>04-May</td>\n",
                            "      <td>Left wheel</td>\n",
                            "      <td>Black</td>\n",
                            "      <td>8</td>\n",
                            "    </tr>\n",
                            "    <tr>\n",
                            "      <th>2</th>\n",
                            "      <td>8467</td>\n",
                            "      <td>-</td>\n",
                            "      <td>HONDA</td>\n",
                            "      <td>FIT</td>\n",
                            "      <td>2006</td>\n",
                            "      <td>Hatchback</td>\n",
                            "      <td>No</td>\n",
                            "      <td>Petrol</td>\n",
                            "      <td>1.3</td>\n",
                            "      <td>200000 km</td>\n",
                            "      <td>4.0</td>\n",
                            "      <td>Variator</td>\n",
                            "      <td>Front</td>\n",
                            "      <td>04-May</td>\n",
                            "      <td>Right-hand drive</td>\n",
                            "      <td>Black</td>\n",
                            "      <td>2</td>\n",
                            "    </tr>\n",
                            "    <tr>\n",
                            "      <th>3</th>\n",
                            "      <td>3607</td>\n",
                            "      <td>862</td>\n",
                            "      <td>FORD</td>\n",
                            "      <td>Escape</td>\n",
                            "      <td>2011</td>\n",
                            "      <td>Jeep</td>\n",
                            "      <td>Yes</td>\n",
                            "      <td>Hybrid</td>\n",
                            "      <td>2.5</td>\n",
                            "      <td>168966 km</td>\n",
                            "      <td>4.0</td>\n",
                            "      <td>Automatic</td>\n",
                            "      <td>4x4</td>\n",
                            "      <td>04-May</td>\n",
                            "      <td>Left wheel</td>\n",
                            "      <td>White</td>\n",
                            "      <td>0</td>\n",
                            "    </tr>\n",
                            "    <tr>\n",
                            "      <th>4</th>\n",
                            "      <td>11726</td>\n",
                            "      <td>446</td>\n",
                            "      <td>HONDA</td>\n",
                            "      <td>FIT</td>\n",
                            "      <td>2014</td>\n",
                            "      <td>Hatchback</td>\n",
                            "      <td>Yes</td>\n",
                            "      <td>Petrol</td>\n",
                            "      <td>1.3</td>\n",
                            "      <td>91901 km</td>\n",
                            "      <td>4.0</td>\n",
                            "      <td>Automatic</td>\n",
                            "      <td>Front</td>\n",
                            "      <td>04-May</td>\n",
                            "      <td>Left wheel</td>\n",
                            "      <td>Silver</td>\n",
                            "      <td>4</td>\n",
                            "    </tr>\n",
                            "    <tr>\n",
                            "      <th>...</th>\n",
                            "      <td>...</td>\n",
                            "      <td>...</td>\n",
                            "      <td>...</td>\n",
                            "      <td>...</td>\n",
                            "      <td>...</td>\n",
                            "      <td>...</td>\n",
                            "      <td>...</td>\n",
                            "      <td>...</td>\n",
                            "      <td>...</td>\n",
                            "      <td>...</td>\n",
                            "      <td>...</td>\n",
                            "      <td>...</td>\n",
                            "      <td>...</td>\n",
                            "      <td>...</td>\n",
                            "      <td>...</td>\n",
                            "      <td>...</td>\n",
                            "      <td>...</td>\n",
                            "    </tr>\n",
                            "    <tr>\n",
                            "      <th>19232</th>\n",
                            "      <td>8467</td>\n",
                            "      <td>-</td>\n",
                            "      <td>MERCEDES-BENZ</td>\n",
                            "      <td>CLK 200</td>\n",
                            "      <td>1999</td>\n",
                            "      <td>Coupe</td>\n",
                            "      <td>Yes</td>\n",
                            "      <td>CNG</td>\n",
                            "      <td>2.0 Turbo</td>\n",
                            "      <td>300000 km</td>\n",
                            "      <td>4.0</td>\n",
                            "      <td>Manual</td>\n",
                            "      <td>Rear</td>\n",
                            "      <td>02-Mar</td>\n",
                            "      <td>Left wheel</td>\n",
                            "      <td>Silver</td>\n",
                            "      <td>5</td>\n",
                            "    </tr>\n",
                            "    <tr>\n",
                            "      <th>19233</th>\n",
                            "      <td>15681</td>\n",
                            "      <td>831</td>\n",
                            "      <td>HYUNDAI</td>\n",
                            "      <td>Sonata</td>\n",
                            "      <td>2011</td>\n",
                            "      <td>Sedan</td>\n",
                            "      <td>Yes</td>\n",
                            "      <td>Petrol</td>\n",
                            "      <td>2.4</td>\n",
                            "      <td>161600 km</td>\n",
                            "      <td>4.0</td>\n",
                            "      <td>Tiptronic</td>\n",
                            "      <td>Front</td>\n",
                            "      <td>04-May</td>\n",
                            "      <td>Left wheel</td>\n",
                            "      <td>Red</td>\n",
                            "      <td>8</td>\n",
                            "    </tr>\n",
                            "    <tr>\n",
                            "      <th>19234</th>\n",
                            "      <td>26108</td>\n",
                            "      <td>836</td>\n",
                            "      <td>HYUNDAI</td>\n",
                            "      <td>Tucson</td>\n",
                            "      <td>2010</td>\n",
                            "      <td>Jeep</td>\n",
                            "      <td>Yes</td>\n",
                            "      <td>Diesel</td>\n",
                            "      <td>2</td>\n",
                            "      <td>116365 km</td>\n",
                            "      <td>4.0</td>\n",
                            "      <td>Automatic</td>\n",
                            "      <td>Front</td>\n",
                            "      <td>04-May</td>\n",
                            "      <td>Left wheel</td>\n",
                            "      <td>Grey</td>\n",
                            "      <td>4</td>\n",
                            "    </tr>\n",
                            "    <tr>\n",
                            "      <th>19235</th>\n",
                            "      <td>5331</td>\n",
                            "      <td>1288</td>\n",
                            "      <td>CHEVROLET</td>\n",
                            "      <td>Captiva</td>\n",
                            "      <td>2007</td>\n",
                            "      <td>Jeep</td>\n",
                            "      <td>Yes</td>\n",
                            "      <td>Diesel</td>\n",
                            "      <td>2</td>\n",
                            "      <td>51258 km</td>\n",
                            "      <td>4.0</td>\n",
                            "      <td>Automatic</td>\n",
                            "      <td>Front</td>\n",
                            "      <td>04-May</td>\n",
                            "      <td>Left wheel</td>\n",
                            "      <td>Black</td>\n",
                            "      <td>4</td>\n",
                            "    </tr>\n",
                            "    <tr>\n",
                            "      <th>19236</th>\n",
                            "      <td>470</td>\n",
                            "      <td>753</td>\n",
                            "      <td>HYUNDAI</td>\n",
                            "      <td>Sonata</td>\n",
                            "      <td>2012</td>\n",
                            "      <td>Sedan</td>\n",
                            "      <td>Yes</td>\n",
                            "      <td>Hybrid</td>\n",
                            "      <td>2.4</td>\n",
                            "      <td>186923 km</td>\n",
                            "      <td>4.0</td>\n",
                            "      <td>Automatic</td>\n",
                            "      <td>Front</td>\n",
                            "      <td>04-May</td>\n",
                            "      <td>Left wheel</td>\n",
                            "      <td>White</td>\n",
                            "      <td>12</td>\n",
                            "    </tr>\n",
                            "  </tbody>\n",
                            "</table>\n",
                            "<p>19237 rows × 17 columns</p>\n",
                            "</div>"
                        ]
                    },
                    "metadata": {},
                    "execution_count": 14
                }
            ],
            "metadata": {}
        },
        {
            "cell_type": "code",
            "execution_count": 16,
            "source": [
                "car_df['Levy'] = car_df['Levy'].replace('-', np.nan)"
            ],
            "outputs": [],
            "metadata": {}
        },
        {
            "cell_type": "code",
            "execution_count": 17,
            "source": [
                "car_df['Levy'] = car_df['Levy'].astype(float)"
            ],
            "outputs": [],
            "metadata": {}
        },
        {
            "cell_type": "code",
            "execution_count": 18,
            "source": [
                "leavy_mean = 0\r\n",
                "\r\n",
                "car_df['Levy'].fillna(leavy_mean, inplace=True)"
            ],
            "outputs": [],
            "metadata": {}
        },
        {
            "cell_type": "code",
            "execution_count": 20,
            "source": [
                "car_df['Levy'] = round(car_df['Levy'], 2)"
            ],
            "outputs": [],
            "metadata": {}
        },
        {
            "cell_type": "code",
            "execution_count": 21,
            "source": [
                "milleage_formats = set()\r\n",
                "\r\n",
                "def get_milleage_format(x):\r\n",
                "\r\n",
                "    x = x.split(' ')[1]\r\n",
                "\r\n",
                "    milleage_formats.add(x)"
            ],
            "outputs": [],
            "metadata": {}
        },
        {
            "cell_type": "code",
            "execution_count": 23,
            "source": [
                "car_df['Mileage'].apply(lambda x:get_milleage_format(x))\r\n",
                "milleage_formats"
            ],
            "outputs": [
                {
                    "output_type": "execute_result",
                    "data": {
                        "text/plain": [
                            "{'km'}"
                        ]
                    },
                    "metadata": {},
                    "execution_count": 23
                }
            ],
            "metadata": {}
        },
        {
            "cell_type": "code",
            "execution_count": 24,
            "source": [
                "car_df['Mileage'] = car_df['Mileage'].apply(lambda x:x.split(' ')[0])"
            ],
            "outputs": [],
            "metadata": {}
        },
        {
            "cell_type": "code",
            "execution_count": 25,
            "source": [
                "car_df['Mileage'] = car_df['Mileage'].astype('int')"
            ],
            "outputs": [],
            "metadata": {}
        },
        {
            "cell_type": "code",
            "execution_count": 26,
            "source": [
                "car_df['Engine volume'].unique()"
            ],
            "outputs": [
                {
                    "output_type": "execute_result",
                    "data": {
                        "text/plain": [
                            "array(['3.5', '3', '1.3', '2.5', '2', '1.8', '2.4', '4', '1.6', '3.3',\n",
                            "       '2.0 Turbo', '2.2 Turbo', '4.7', '1.5', '4.4', '3.0 Turbo',\n",
                            "       '1.4 Turbo', '3.6', '2.3', '1.5 Turbo', '1.6 Turbo', '2.2',\n",
                            "       '2.3 Turbo', '1.4', '5.5', '2.8 Turbo', '3.2', '3.8', '4.6', '1.2',\n",
                            "       '5', '1.7', '2.9', '0.5', '1.8 Turbo', '2.4 Turbo', '3.5 Turbo',\n",
                            "       '1.9', '2.7', '4.8', '5.3', '0.4', '2.8', '3.2 Turbo', '1.1',\n",
                            "       '2.1', '0.7', '5.4', '1.3 Turbo', '3.7', '1', '2.5 Turbo', '2.6',\n",
                            "       '1.9 Turbo', '4.4 Turbo', '4.7 Turbo', '0.8', '0.2 Turbo', '5.7',\n",
                            "       '4.8 Turbo', '4.6 Turbo', '6.7', '6.2', '1.2 Turbo', '3.4',\n",
                            "       '1.7 Turbo', '6.3 Turbo', '2.7 Turbo', '4.3', '4.2', '2.9 Turbo',\n",
                            "       '0', '4.0 Turbo', '20', '3.6 Turbo', '0.3', '3.7 Turbo', '5.9',\n",
                            "       '5.5 Turbo', '0.2', '2.1 Turbo', '5.6', '6', '0.7 Turbo',\n",
                            "       '0.6 Turbo', '6.8', '4.5', '0.6', '7.3', '0.1', '1.0 Turbo', '6.3',\n",
                            "       '4.5 Turbo', '0.8 Turbo', '4.2 Turbo', '3.1', '5.0 Turbo', '6.4',\n",
                            "       '3.9', '5.7 Turbo', '0.9', '0.4 Turbo', '5.4 Turbo', '0.3 Turbo',\n",
                            "       '5.2', '5.8', '1.1 Turbo'], dtype=object)"
                        ]
                    },
                    "metadata": {},
                    "execution_count": 26
                }
            ],
            "metadata": {}
        },
        {
            "cell_type": "code",
            "execution_count": 27,
            "source": [
                "car_df['Turbo'] = car_df['Engine volume'].apply(lambda x: 1 if 'Turbo' in str(x) else 0)"
            ],
            "outputs": [],
            "metadata": {}
        },
        {
            "cell_type": "code",
            "execution_count": 29,
            "source": [
                "car_df['Turbo']"
            ],
            "outputs": [
                {
                    "output_type": "execute_result",
                    "data": {
                        "text/plain": [
                            "0        0\n",
                            "1        0\n",
                            "2        0\n",
                            "3        0\n",
                            "4        0\n",
                            "        ..\n",
                            "19232    1\n",
                            "19233    0\n",
                            "19234    0\n",
                            "19235    0\n",
                            "19236    0\n",
                            "Name: Turbo, Length: 19237, dtype: int64"
                        ]
                    },
                    "metadata": {},
                    "execution_count": 29
                }
            ],
            "metadata": {}
        },
        {
            "cell_type": "code",
            "execution_count": 30,
            "source": [
                "car_df['Engine volume'] = car_df['Engine volume'].apply(lambda x:str(x).replace('Turbo', ''))"
            ],
            "outputs": [],
            "metadata": {}
        },
        {
            "cell_type": "code",
            "execution_count": 31,
            "source": [
                "car_df['Engine volume'] = car_df['Engine volume'].astype(float)"
            ],
            "outputs": [],
            "metadata": {}
        },
        {
            "cell_type": "code",
            "execution_count": 32,
            "source": [
                "cols = ['Levy', 'Engine volume', 'Mileage', 'Cylinders', 'Airbags']"
            ],
            "outputs": [],
            "metadata": {}
        },
        {
            "cell_type": "code",
            "execution_count": 35,
            "source": [
                "sns.boxplot(car_df[cols[0]])"
            ],
            "outputs": [
                {
                    "output_type": "stream",
                    "name": "stderr",
                    "text": [
                        "C:\\Users\\Wessware\\AppData\\Local\\Packages\\PythonSoftwareFoundation.Python.3.9_qbz5n2kfra8p0\\LocalCache\\local-packages\\Python39\\site-packages\\seaborn\\_decorators.py:36: FutureWarning: Pass the following variable as a keyword arg: x. From version 0.12, the only valid positional argument will be `data`, and passing other arguments without an explicit keyword will result in an error or misinterpretation.\n",
                        "  warnings.warn(\n"
                    ]
                },
                {
                    "output_type": "execute_result",
                    "data": {
                        "text/plain": [
                            "<AxesSubplot:xlabel='Levy'>"
                        ]
                    },
                    "metadata": {},
                    "execution_count": 35
                },
                {
                    "output_type": "display_data",
                    "data": {
                        "text/plain": [
                            "<Figure size 432x288 with 1 Axes>"
                        ],
                        "image/png": "[encoded data removed]"
                    },
                    "metadata": {
                        "needs_background": "light"
                    }
                }
            ],
            "metadata": {}
        },
        {
            "cell_type": "code",
            "execution_count": 36,
            "source": [
                "sns.boxplot(car_df[cols[1]])"
            ],
            "outputs": [
                {
                    "output_type": "stream",
                    "name": "stderr",
                    "text": [
                        "C:\\Users\\Wessware\\AppData\\Local\\Packages\\PythonSoftwareFoundation.Python.3.9_qbz5n2kfra8p0\\LocalCache\\local-packages\\Python39\\site-packages\\seaborn\\_decorators.py:36: FutureWarning: Pass the following variable as a keyword arg: x. From version 0.12, the only valid positional argument will be `data`, and passing other arguments without an explicit keyword will result in an error or misinterpretation.\n",
                        "  warnings.warn(\n"
                    ]
                },
                {
                    "output_type": "execute_result",
                    "data": {
                        "text/plain": [
                            "<AxesSubplot:xlabel='Engine volume'>"
                        ]
                    },
                    "metadata": {},
                    "execution_count": 36
                },
                {
                    "output_type": "display_data",
                    "data": {
                        "text/plain": [
                            "<Figure size 432x288 with 1 Axes>"
                        ],
                        "image/png": "[encoded data removed]"
                    },
                    "metadata": {
                        "needs_background": "light"
                    }
                }
            ],
            "metadata": {}
        },
        {
            "cell_type": "code",
            "execution_count": 37,
            "source": [
                "sns.boxplot(car_df[cols[2]])"
            ],
            "outputs": [
                {
                    "output_type": "stream",
                    "name": "stderr",
                    "text": [
                        "C:\\Users\\Wessware\\AppData\\Local\\Packages\\PythonSoftwareFoundation.Python.3.9_qbz5n2kfra8p0\\LocalCache\\local-packages\\Python39\\site-packages\\seaborn\\_decorators.py:36: FutureWarning: Pass the following variable as a keyword arg: x. From version 0.12, the only valid positional argument will be `data`, and passing other arguments without an explicit keyword will result in an error or misinterpretation.\n",
                        "  warnings.warn(\n"
                    ]
                },
                {
                    "output_type": "execute_result",
                    "data": {
                        "text/plain": [
                            "<AxesSubplot:xlabel='Mileage'>"
                        ]
                    },
                    "metadata": {},
                    "execution_count": 37
                },
                {
                    "output_type": "display_data",
                    "data": {
                        "text/plain": [
                            "<Figure size 432x288 with 1 Axes>"
                        ],
                        "image/png": "[encoded data removed]"
                    },
                    "metadata": {
                        "needs_background": "light"
                    }
                }
            ],
            "metadata": {}
        },
        {
            "cell_type": "code",
            "execution_count": 38,
            "source": [
                "sns.boxplot(car_df[cols[3]])"
            ],
            "outputs": [
                {
                    "output_type": "stream",
                    "name": "stderr",
                    "text": [
                        "C:\\Users\\Wessware\\AppData\\Local\\Packages\\PythonSoftwareFoundation.Python.3.9_qbz5n2kfra8p0\\LocalCache\\local-packages\\Python39\\site-packages\\seaborn\\_decorators.py:36: FutureWarning: Pass the following variable as a keyword arg: x. From version 0.12, the only valid positional argument will be `data`, and passing other arguments without an explicit keyword will result in an error or misinterpretation.\n",
                        "  warnings.warn(\n"
                    ]
                },
                {
                    "output_type": "execute_result",
                    "data": {
                        "text/plain": [
                            "<AxesSubplot:xlabel='Cylinders'>"
                        ]
                    },
                    "metadata": {},
                    "execution_count": 38
                },
                {
                    "output_type": "display_data",
                    "data": {
                        "text/plain": [
                            "<Figure size 432x288 with 1 Axes>"
                        ],
                        "image/png": "[encoded data removed]"
                    },
                    "metadata": {
                        "needs_background": "light"
                    }
                }
            ],
            "metadata": {}
        },
        {
            "cell_type": "code",
            "execution_count": 39,
            "source": [
                "sns.boxplot(car_df[cols[4]])"
            ],
            "outputs": [
                {
                    "output_type": "stream",
                    "name": "stderr",
                    "text": [
                        "C:\\Users\\Wessware\\AppData\\Local\\Packages\\PythonSoftwareFoundation.Python.3.9_qbz5n2kfra8p0\\LocalCache\\local-packages\\Python39\\site-packages\\seaborn\\_decorators.py:36: FutureWarning: Pass the following variable as a keyword arg: x. From version 0.12, the only valid positional argument will be `data`, and passing other arguments without an explicit keyword will result in an error or misinterpretation.\n",
                        "  warnings.warn(\n"
                    ]
                },
                {
                    "output_type": "execute_result",
                    "data": {
                        "text/plain": [
                            "<AxesSubplot:xlabel='Airbags'>"
                        ]
                    },
                    "metadata": {},
                    "execution_count": 39
                },
                {
                    "output_type": "display_data",
                    "data": {
                        "text/plain": [
                            "<Figure size 432x288 with 1 Axes>"
                        ],
                        "image/png": "[encoded data removed]"
                    },
                    "metadata": {
                        "needs_background": "light"
                    }
                }
            ],
            "metadata": {}
        },
        {
            "cell_type": "code",
            "execution_count": 40,
            "source": [],
            "outputs": [],
            "metadata": {}
        },
        {
            "cell_type": "code",
            "execution_count": 42,
            "source": [
                "def outlier_limit(car_df, col):\r\n",
                "    print(col)\r\n",
                "    print('-'*50)\r\n",
                "    q25, q75 = np.percentile(car_df[col], 25), np.percentile(car_df[col], 25)\r\n",
                "\r\n",
                "    iqr = q75 - q25\r\n",
                "\r\n",
                "    print('Percentiles: 25th=%.3f, 75th=%.3f, IQR=%.3f' % (q25, q75, iqr))\r\n",
                "\r\n",
                "    cut_off = iqr * 1.5\r\n",
                "\r\n",
                "    lower, upper = q25 - cut_off, q75 + cut_off\r\n",
                "\r\n",
                "    print('Lower: ' ,lower, ' upper:' ,upper)\r\n",
                "\r\n",
                "    return lower, upper"
            ],
            "outputs": [],
            "metadata": {}
        },
        {
            "cell_type": "code",
            "execution_count": 43,
            "source": [
                "outlier_limit(car_df, cols)"
            ],
            "outputs": [
                {
                    "output_type": "stream",
                    "name": "stdout",
                    "text": [
                        "['Levy', 'Engine volume', 'Mileage', 'Cylinders', 'Airbags']\n",
                        "--------------------------------------------------\n",
                        "Percentiles: 25th=2.500, 75th=2.500, IQR=0.000\n",
                        "Lower:  2.5  upper: 2.5\n"
                    ]
                },
                {
                    "output_type": "execute_result",
                    "data": {
                        "text/plain": [
                            "(2.5, 2.5)"
                        ]
                    },
                    "metadata": {},
                    "execution_count": 43
                }
            ],
            "metadata": {}
        },
        {
            "cell_type": "code",
            "execution_count": 45,
            "source": [
                "def remove_outlier(car_df, col, upper, lower):\r\n",
                "\r\n",
                "    outliers = [x for x in car_df[col] if x > upper]\r\n",
                "\r\n",
                "    print('Identified outliers: %d' % len(outliers))\r\n",
                "\r\n",
                "    outliers_removed = [x for x in car_df[col] if x >= lower  and x <= upper]\r\n",
                "\r\n",
                "    print('Non-outliers observations: %d' % len(outliers_removed))\r\n",
                "\r\n",
                "    final = np.where(car_df[col] > upper, upper, np.where(car_df[col] < lower, lower, car_df[col]))\r\n",
                "\r\n",
                "    return final"
            ],
            "outputs": [],
            "metadata": {}
        },
        {
            "cell_type": "code",
            "execution_count": null,
            "source": [],
            "outputs": [],
            "metadata": {}
        }
    ],
    "metadata": {
        "orig_nbformat": 4,
        "language_info": {
            "name": "python",
            "version": "3.9.5",
            "mimetype": "text/x-python",
            "codemirror_mode": {
                "name": "ipython",
                "version": 3
            },
            "pygments_lexer": "ipython3",
            "nbconvert_exporter": "python",
            "file_extension": ".py"
        },
        "kernelspec": {
            "name": "python3",
            "display_name": "Python 3.9.5 64-bit (windows store)"
        },
        "interpreter": {
            "hash": "13f38cf28d818ed05ed31d9d4f5b20000160d246f2c83cb873de1fcaec656d23"
        }
    },
    "nbformat": 4,
    "nbformat_minor": 2
}